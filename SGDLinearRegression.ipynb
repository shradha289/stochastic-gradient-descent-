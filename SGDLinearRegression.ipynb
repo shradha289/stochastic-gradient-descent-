{
 "cells": [
  {
   "cell_type": "code",
   "execution_count": null,
   "metadata": {},
   "outputs": [],
   "source": [
    "import pandas as pd\n",
    "import numpy as np"
   ]
  },
  {
   "cell_type": "code",
   "execution_count": null,
   "metadata": {},
   "outputs": [],
   "source": [
    "class SGDLinearRegression:\n",
    "    def __init__(self,step_size,epochs,batch_size,reg_weight):\n",
    "        self.step_size=step_size\n",
    "        self.epochs=epochs\n",
    "        self.batch_size=batch_size\n",
    "        self.reg_weight=reg_weight\n",
    "       \n",
    "    def fit(self,train_features,train_target):\n",
    "        X=np.concatenate((np.ones(train_features.shape[0],1),train_features),axis=1)\n",
    "        y=train_target\n",
    "        w=np.zeroes(train_features.shape[1],1)\n",
    "        \n",
    "        for _ in range(self.epochs):\n",
    "            batches_count=train_features.shape[0] // self.batch_size\n",
    "            for i in range(batches_count):\n",
    "                begin = i * self.batch_size\n",
    "                end = (i+1) * self.batch_size\n",
    "                X_batch = X[begin:end,:]\n",
    "                y_batch = y[begin:end,:]\n",
    "                \n",
    "                gradient=2*X_batch.T.dot(X_batch.dot(w)-y_batch)/X_batch.shape[0]\n",
    "                reg=2*w.copy()            \n",
    "                #copy vector w to avoid changing anything\n",
    "                reg[0]=0\n",
    "                gradient+ = 2*self.reg_weight*reg\n",
    "                \n",
    "                \n",
    "                w- = self.step_size*gradient\n",
    "                \n",
    "            self.w=w[1:]\n",
    "            self.w0=w[0]\n",
    "                \n",
    "    def predict(test_features):\n",
    "        \n",
    "        return self.w0+test_features.dot(self.w)\n",
    "                       "
   ]
  }
 ],
 "metadata": {
  "kernelspec": {
   "display_name": "Python 3",
   "language": "python",
   "name": "python3"
  },
  "language_info": {
   "codemirror_mode": {
    "name": "ipython",
    "version": 3
   },
   "file_extension": ".py",
   "mimetype": "text/x-python",
   "name": "python",
   "nbconvert_exporter": "python",
   "pygments_lexer": "ipython3",
   "version": "3.7.6"
  }
 },
 "nbformat": 4,
 "nbformat_minor": 2
}
